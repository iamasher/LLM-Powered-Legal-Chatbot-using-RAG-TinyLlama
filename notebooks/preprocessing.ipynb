{
 "cells": [
  {
   "cell_type": "code",
   "execution_count": 6,
   "id": "31e97e8c",
   "metadata": {},
   "outputs": [
    {
     "name": "stdout",
     "output_type": "stream",
     "text": [
      "Document loaded and cleaned successfully.\n"
     ]
    }
   ],
   "source": [
    "# Load and clean PDF using pdfminer\n",
    "from pdfminer.high_level import extract_text\n",
    "from pathlib import Path\n",
    "import re\n",
    "\n",
    "# Step 1: Load PDF\n",
    "pdf_path = 'C:\\\\Users\\\\iamas\\\\Desktop\\\\amlgo-rag-chatbot\\\\data\\\\training_document.pdf'\n",
    "text = extract_text(pdf_path)\n",
    "\n",
    "# Step 2: Clean the extracted text\n",
    "def clean_text(raw_text):\n",
    "    # Remove extra spaces and newlines\n",
    "    cleaned = re.sub(r'\\n+', '\\n', raw_text)\n",
    "    cleaned = re.sub(r'\\s+', ' ', cleaned)\n",
    "    return cleaned.strip()\n",
    "\n",
    "cleaned_text = clean_text(text)\n",
    "\n",
    "# Step 3: Save cleaned text to a file (optional)\n",
    "Path(\"../data/cleaned_document.txt\").write_text(cleaned_text)\n",
    "\n",
    "print(\"Document loaded and cleaned successfully.\")\n"
   ]
  },
  {
   "cell_type": "code",
   "execution_count": 6,
   "id": "e147fc10",
   "metadata": {},
   "outputs": [
    {
     "name": "stdout",
     "output_type": "stream",
     "text": [
      "Number of chunks created: 91\n",
      "Chunks saved to /chunks/chunks.json\n"
     ]
    }
   ],
   "source": [
    "from langchain.text_splitter import RecursiveCharacterTextSplitter\n",
    "import json\n",
    "\n",
    "# Step 1: Load cleaned document\n",
    "with open('../data/cleaned_document.txt', 'r', encoding='latin1') as f:\n",
    "    full_text = f.read()\n",
    "\n",
    "# Step 2: Initialize the text splitter\n",
    "text_splitter = RecursiveCharacterTextSplitter(\n",
    "    chunk_size=1000,       # Approx. 200 words (adjustable)\n",
    "    chunk_overlap=200,     # Ensure context continuity\n",
    "    length_function=len,\n",
    "    separators=[\"\\n\\n\", \"\\n\", \".\", \"!\", \"?\", \" \"]\n",
    ")\n",
    "\n",
    "# Step 3: Split into chunks\n",
    "chunks = text_splitter.split_text(full_text)\n",
    "print(f\"Number of chunks created: {len(chunks)}\")\n",
    "\n",
    "# Step 4: Save chunks to JSON\n",
    "with open('../chunks/chunks.json', 'w', encoding='utf-8') as f:\n",
    "    json.dump(chunks, f, ensure_ascii=False, indent=2)\n",
    "\n",
    "print(\"Chunks saved to /chunks/chunks.json\")\n"
   ]
  },
  {
   "cell_type": "code",
   "execution_count": null,
   "id": "ee341cca",
   "metadata": {},
   "outputs": [],
   "source": [
    "from sentence_transformers import SentenceTransformer\n",
    "import faiss\n",
    "import numpy as np\n",
    "import json\n",
    "import os\n",
    "\n",
    "# Step 1: Load chunks\n",
    "with open('../chunks/chunks.json', 'r', encoding='latin1') as f:\n",
    "    chunks = json.load(f)\n",
    "\n",
    "# Step 2: Load embedding model\n",
    "model = SentenceTransformer('all-MiniLM-L6-v2')\n",
    "\n",
    "# Step 3: Generate embeddings\n",
    "embeddings = model.encode(chunks, show_progress_bar=True)\n",
    "\n",
    "# Step 4: Create FAISS index\n",
    "dimension = embeddings[0].shape[0]\n",
    "index = faiss.IndexFlatL2(dimension)\n",
    "index.add(np.array(embeddings))\n",
    "\n",
    "# Step 5: Save FAISS index\n",
    "os.makedirs('../vectordb', exist_ok=True)\n",
    "faiss.write_index(index, '../vectordb/index.faiss')\n",
    "\n",
    "# Save chunks (in same order as embeddings) for reference during retrieval\n",
    "with open('../vectordb/chunks.json', 'w', encoding='utf-8') as f:\n",
    "    json.dump(chunks, f, ensure_ascii=False, indent=2)\n",
    "\n",
    "print(\" FAISS index created and saved!\")\n"
   ]
  }
 ],
 "metadata": {
  "kernelspec": {
   "display_name": "Python 3",
   "language": "python",
   "name": "python3"
  },
  "language_info": {
   "codemirror_mode": {
    "name": "ipython",
    "version": 3
   },
   "file_extension": ".py",
   "mimetype": "text/x-python",
   "name": "python",
   "nbconvert_exporter": "python",
   "pygments_lexer": "ipython3",
   "version": "3.10.0"
  }
 },
 "nbformat": 4,
 "nbformat_minor": 5
}
